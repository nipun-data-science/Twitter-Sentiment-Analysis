{
 "cells": [
  {
   "cell_type": "code",
   "execution_count": null,
   "id": "dea1a553",
   "metadata": {},
   "outputs": [
    {
     "name": "stderr",
     "output_type": "stream",
     "text": [
      "WARNING: This is a development server. Do not use it in a production deployment. Use a production WSGI server instead.\n",
      " * Running on http://localhost:5000\n",
      "Press CTRL+C to quit\n",
      "127.0.0.1 - - [11/Mar/2024 00:13:18] \"GET / HTTP/1.1\" 200 -\n",
      "127.0.0.1 - - [11/Mar/2024 00:13:18] \"GET /favicon.ico HTTP/1.1\" 404 -\n",
      "127.0.0.1 - - [11/Mar/2024 00:13:29] \"POST /analyze_sentiment HTTP/1.1\" 200 -\n",
      "127.0.0.1 - - [11/Mar/2024 00:13:42] \"POST /analyze_sentiment HTTP/1.1\" 200 -\n",
      "127.0.0.1 - - [11/Mar/2024 00:13:48] \"POST /analyze_sentiment HTTP/1.1\" 200 -\n",
      "127.0.0.1 - - [11/Mar/2024 00:13:58] \"GET /?tweet=i+hate+you HTTP/1.1\" 200 -\n",
      "127.0.0.1 - - [11/Mar/2024 00:14:17] \"GET /?tweet=disappointing HTTP/1.1\" 200 -\n",
      "127.0.0.1 - - [11/Mar/2024 00:14:23] \"POST /analyze_sentiment HTTP/1.1\" 200 -\n",
      "127.0.0.1 - - [11/Mar/2024 00:14:29] \"POST /analyze_sentiment HTTP/1.1\" 200 -\n",
      "127.0.0.1 - - [11/Mar/2024 00:14:52] \"POST /analyze_sentiment HTTP/1.1\" 200 -\n",
      "127.0.0.1 - - [11/Mar/2024 00:15:25] \"POST /analyze_sentiment HTTP/1.1\" 200 -\n",
      "127.0.0.1 - - [11/Mar/2024 00:15:34] \"POST /analyze_sentiment HTTP/1.1\" 200 -\n",
      "127.0.0.1 - - [11/Mar/2024 00:15:40] \"GET /?tweet=26+year+old+man+kidnapped,+raped+%26+impregnated+a+11+year+old+girl HTTP/1.1\" 200 -\n",
      "127.0.0.1 - - [11/Mar/2024 00:16:05] \"POST /analyze_sentiment HTTP/1.1\" 200 -\n"
     ]
    }
   ],
   "source": [
    "import joblib\n",
    "import numpy as np\n",
    "import pandas as pd \n",
    "from flask import Flask, request, jsonify,render_template\n",
    "from sklearn.feature_extraction.text import TfidfVectorizer\n",
    "\n",
    "app = Flask(__name__)\n",
    "\n",
    "# Load the pre-trained model from the pickle file\n",
    "model = joblib.load('twitter_data.pkl')\n",
    "model2 = joblib.load('token.pkl')\n",
    "\n",
    "@app.route('/')\n",
    "def sentiment_form():\n",
    "    return render_template('index.html')\n",
    "\n",
    "\n",
    "# Define a route for sentiment analysis\n",
    "@app.route('/analyze_sentiment', methods=['POST'])\n",
    "def analyze_sentiment():\n",
    "    # Get the tweet from the POST request\n",
    "    tweet = request.json['tweet']\n",
    "    text_tf_inp = model2.transform(pd.Series(tweet))\n",
    "    # Preprocess and vectorize the tweet (You may need to use the same preprocessing as when you trained the model)\n",
    "    # Here's a simple example of preprocessing and vectorization using CountVectorizer:\n",
    "    # from sklearn.feature_extraction.text import CountVectorizer\n",
    "    # vectorizer = CountVectorizer()\n",
    "    # tweet_vector = vectorizer.transform([tweet])\n",
    "\n",
    "    # Make a sentiment prediction\n",
    "    sentiment_prediction = model.predict(text_tf_inp)\n",
    "\n",
    "    # Return the result as JSON\n",
    "    result = {\n",
    "        'tweet': tweet,\n",
    "        'sentiment': sentiment_prediction[0]\n",
    "    }\n",
    "\n",
    "    return jsonify(result)\n",
    "\n",
    "# Use this code to start the Flask app in a Jupyter Notebook\n",
    "from werkzeug.serving import run_simple\n",
    "run_simple('localhost', 5000, app)\n"
   ]
  },
  {
   "cell_type": "code",
   "execution_count": null,
   "id": "c29e55db",
   "metadata": {},
   "outputs": [],
   "source": []
  }
 ],
 "metadata": {
  "kernelspec": {
   "display_name": "Python 3 (ipykernel)",
   "language": "python",
   "name": "python3"
  },
  "language_info": {
   "codemirror_mode": {
    "name": "ipython",
    "version": 3
   },
   "file_extension": ".py",
   "mimetype": "text/x-python",
   "name": "python",
   "nbconvert_exporter": "python",
   "pygments_lexer": "ipython3",
   "version": "3.11.5"
  }
 },
 "nbformat": 4,
 "nbformat_minor": 5
}
