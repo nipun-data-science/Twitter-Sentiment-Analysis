{
 "cells": [
  {
   "cell_type": "markdown",
   "id": "a7567668",
   "metadata": {
    "papermill": {
     "duration": 0.00695,
     "end_time": "2023-05-03T12:59:15.135651",
     "exception": false,
     "start_time": "2023-05-03T12:59:15.128701",
     "status": "completed"
    },
    "tags": []
   },
   "source": [
    "# **Importing Data and Libraries**"
   ]
  },
  {
   "cell_type": "code",
   "execution_count": 1,
   "id": "a07fbe9a",
   "metadata": {
    "_cell_guid": "b1076dfc-b9ad-4769-8c92-a6c4dae69d19",
    "_uuid": "8f2839f25d086af736a60e9eeb907d3b93b6e0e5",
    "execution": {
     "iopub.execute_input": "2023-05-03T12:59:15.152634Z",
     "iopub.status.busy": "2023-05-03T12:59:15.152009Z",
     "iopub.status.idle": "2023-05-03T12:59:17.438565Z",
     "shell.execute_reply": "2023-05-03T12:59:17.437066Z"
    },
    "papermill": {
     "duration": 2.298964,
     "end_time": "2023-05-03T12:59:17.441777",
     "exception": false,
     "start_time": "2023-05-03T12:59:15.142813",
     "status": "completed"
    },
    "tags": []
   },
   "outputs": [
    {
     "name": "stderr",
     "output_type": "stream",
     "text": [
      "C:\\Users\\nipun\\AppData\\Local\\Temp\\ipykernel_14756\\2756304771.py:14: FutureWarning: Passing a negative integer is deprecated in version 1.0 and will not be supported in future version. Instead, use None to not limit the column width.\n",
      "  pd.set_option('max_colwidth', -1)\n"
     ]
    }
   ],
   "source": [
    "\n",
    "import numpy as np \n",
    "import pandas as pd \n",
    "import nltk\n",
    "import seaborn as sns\n",
    "import matplotlib.pyplot as plt\n",
    "import requests\n",
    "from sklearn.metrics import confusion_matrix, accuracy_score, roc_auc_score, roc_curve\n",
    "from sklearn.feature_extraction.text import CountVectorizer\n",
    "from nltk.tokenize import RegexpTokenizer\n",
    "from sklearn.feature_extraction.text import TfidfVectorizer\n",
    "from sklearn.model_selection import train_test_split\n",
    "from sklearn.tree import DecisionTreeClassifier\n",
    "from sklearn.metrics import classification_report\n",
    "pd.set_option('max_colwidth', -1)"
   ]
  },
  {
   "cell_type": "markdown",
   "id": "4acd59bf",
   "metadata": {
    "papermill": {
     "duration": 0.007368,
     "end_time": "2023-05-03T12:59:17.456435",
     "exception": false,
     "start_time": "2023-05-03T12:59:17.449067",
     "status": "completed"
    },
    "tags": []
   },
   "source": [
    "# **Learning about the data**"
   ]
  },
  {
   "cell_type": "code",
   "execution_count": 2,
   "id": "30038211",
   "metadata": {
    "execution": {
     "iopub.execute_input": "2023-05-03T12:59:17.473687Z",
     "iopub.status.busy": "2023-05-03T12:59:17.472936Z",
     "iopub.status.idle": "2023-05-03T12:59:17.613049Z",
     "shell.execute_reply": "2023-05-03T12:59:17.611646Z"
    },
    "papermill": {
     "duration": 0.152937,
     "end_time": "2023-05-03T12:59:17.616889",
     "exception": false,
     "start_time": "2023-05-03T12:59:17.463952",
     "status": "completed"
    },
    "tags": []
   },
   "outputs": [
    {
     "data": {
      "text/html": [
       "<div>\n",
       "<style scoped>\n",
       "    .dataframe tbody tr th:only-of-type {\n",
       "        vertical-align: middle;\n",
       "    }\n",
       "\n",
       "    .dataframe tbody tr th {\n",
       "        vertical-align: top;\n",
       "    }\n",
       "\n",
       "    .dataframe thead th {\n",
       "        text-align: right;\n",
       "    }\n",
       "</style>\n",
       "<table border=\"1\" class=\"dataframe\">\n",
       "  <thead>\n",
       "    <tr style=\"text-align: right;\">\n",
       "      <th></th>\n",
       "      <th>Sl no</th>\n",
       "      <th>Tweets</th>\n",
       "      <th>Search key</th>\n",
       "      <th>Feeling</th>\n",
       "    </tr>\n",
       "  </thead>\n",
       "  <tbody>\n",
       "    <tr>\n",
       "      <th>10012</th>\n",
       "      <td>10016</td>\n",
       "      <td>Tweet #85: @Matteo tweeted \"@GameSpot @Frannkchesco @EAStarWars Controversy THEY caused.Yes, we all know to expect this kind of corporate bullshitting by this point, but it's still brazen and irritating as f***.It's a good game now that's getting even better.Still shoulda been that way in Day 1.So many games releasing like this 😔\"</td>\n",
       "      <td>irritating</td>\n",
       "      <td>angry</td>\n",
       "    </tr>\n",
       "    <tr>\n",
       "      <th>10013</th>\n",
       "      <td>10017</td>\n",
       "      <td>Tweet #86: @𝐚𝐧𝐢𝐬𝐭𝐨𝐧 tweeted \"@BRATgiirl_ that’s so irritating 😡 I wish people cared about their kids more wtf\"</td>\n",
       "      <td>irritating</td>\n",
       "      <td>angry</td>\n",
       "    </tr>\n",
       "    <tr>\n",
       "      <th>10014</th>\n",
       "      <td>10018</td>\n",
       "      <td>Tweet #87: @Chowkidar Ricky Sharma tweeted \"@MamataOfficial G aapne besharmi ki saari hadhe paar kar di. Janta kabhi bhi aapko maaf nahi karegi. You are absolutely wrong person sorry to say that you are so irritating. https://t.co/poUdtAnq1A\"</td>\n",
       "      <td>irritating</td>\n",
       "      <td>angry</td>\n",
       "    </tr>\n",
       "    <tr>\n",
       "      <th>10015</th>\n",
       "      <td>10019</td>\n",
       "      <td>Tweet #88: @Katoe.EXE tweeted \"u know what i hate. indie alternative whatever genre music that;s \"deep\" but the fucking singing doesn't match the bpm of the soundtrack and shit just sounds off-tune and give you an irritating headache.aka mitski\"</td>\n",
       "      <td>irritating</td>\n",
       "      <td>angry</td>\n",
       "    </tr>\n",
       "    <tr>\n",
       "      <th>10016</th>\n",
       "      <td>10019</td>\n",
       "      <td>Tweet #88: @Katoe.EXE tweeted \"u know what i hate. indie alternative whatever genre music that;s \"deep\" but the fucking singing doesn't match the bpm of the soundtrack and shit just sounds off-tune and give you an irritating headache.aka mitski\"</td>\n",
       "      <td>irritating</td>\n",
       "      <td>angry</td>\n",
       "    </tr>\n",
       "  </tbody>\n",
       "</table>\n",
       "</div>"
      ],
      "text/plain": [
       "       Sl no  \\\n",
       "10012  10016   \n",
       "10013  10017   \n",
       "10014  10018   \n",
       "10015  10019   \n",
       "10016  10019   \n",
       "\n",
       "                                                                                                                                                                                                                                                                                                                                             Tweets  \\\n",
       "10012  Tweet #85: @Matteo tweeted \"@GameSpot @Frannkchesco @EAStarWars Controversy THEY caused.Yes, we all know to expect this kind of corporate bullshitting by this point, but it's still brazen and irritating as f***.It's a good game now that's getting even better.Still shoulda been that way in Day 1.So many games releasing like this 😔\"   \n",
       "10013  Tweet #86: @𝐚𝐧𝐢𝐬𝐭𝐨𝐧 tweeted \"@BRATgiirl_ that’s so irritating 😡 I wish people cared about their kids more wtf\"                                                                                                                                                                                                                                 \n",
       "10014  Tweet #87: @Chowkidar Ricky Sharma tweeted \"@MamataOfficial G aapne besharmi ki saari hadhe paar kar di. Janta kabhi bhi aapko maaf nahi karegi. You are absolutely wrong person sorry to say that you are so irritating. https://t.co/poUdtAnq1A\"                                                                                             \n",
       "10015  Tweet #88: @Katoe.EXE tweeted \"u know what i hate. indie alternative whatever genre music that;s \"deep\" but the fucking singing doesn't match the bpm of the soundtrack and shit just sounds off-tune and give you an irritating headache.aka mitski\"                                                                                          \n",
       "10016  Tweet #88: @Katoe.EXE tweeted \"u know what i hate. indie alternative whatever genre music that;s \"deep\" but the fucking singing doesn't match the bpm of the soundtrack and shit just sounds off-tune and give you an irritating headache.aka mitski\"                                                                                          \n",
       "\n",
       "       Search key Feeling  \n",
       "10012  irritating  angry   \n",
       "10013  irritating  angry   \n",
       "10014  irritating  angry   \n",
       "10015  irritating  angry   \n",
       "10016  irritating  angry   "
      ]
     },
     "metadata": {},
     "output_type": "display_data"
    }
   ],
   "source": [
    "dataset=pd.read_csv('data.csv')\n",
    "display(dataset.tail())"
   ]
  },
  {
   "cell_type": "markdown",
   "id": "a1f10867",
   "metadata": {
    "papermill": {
     "duration": 0.007538,
     "end_time": "2023-05-03T12:59:17.632372",
     "exception": false,
     "start_time": "2023-05-03T12:59:17.624834",
     "status": "completed"
    },
    "tags": []
   },
   "source": [
    "# **Dataset Summary**"
   ]
  },
  {
   "cell_type": "code",
   "execution_count": 3,
   "id": "b61b6434",
   "metadata": {
    "execution": {
     "iopub.execute_input": "2023-05-03T12:59:17.650899Z",
     "iopub.status.busy": "2023-05-03T12:59:17.649800Z",
     "iopub.status.idle": "2023-05-03T12:59:19.462057Z",
     "shell.execute_reply": "2023-05-03T12:59:19.460382Z"
    },
    "papermill": {
     "duration": 1.824674,
     "end_time": "2023-05-03T12:59:19.464807",
     "exception": false,
     "start_time": "2023-05-03T12:59:17.640133",
     "status": "completed"
    },
    "tags": []
   },
   "outputs": [
    {
     "data": {
      "text/plain": [
       "<seaborn.axisgrid.FacetGrid at 0x143de7ddb10>"
      ]
     },
     "execution_count": 3,
     "metadata": {},
     "output_type": "execute_result"
    },
    {
     "data": {
      "image/png": "[encoded data removed]",
      "text/plain": [
       "<Figure size 1800x300 with 6 Axes>"
      ]
     },
     "metadata": {},
     "output_type": "display_data"
    }
   ],
   "source": [
    "dataset.describe(include='all')\n",
    "dataset['length'] = dataset['Tweets'].apply(len)\n",
    "dataset.head()\n",
    "graph = sns.FacetGrid(data=dataset,col='Feeling')\n",
    "graph.map(plt.hist,'length',bins=50,color='Purple')"
   ]
  },
  {
   "cell_type": "markdown",
   "id": "9defae20",
   "metadata": {
    "papermill": {
     "duration": 0.009555,
     "end_time": "2023-05-03T12:59:19.483153",
     "exception": false,
     "start_time": "2023-05-03T12:59:19.473598",
     "status": "completed"
    },
    "tags": []
   },
   "source": [
    " **GETTING THE MEAN VALUES OF THE VOTE COLUMNS WRT THE STARS ON THE REVIEW**"
   ]
  },
  {
   "cell_type": "code",
   "execution_count": 4,
   "id": "d80ab164",
   "metadata": {
    "execution": {
     "iopub.execute_input": "2023-05-03T12:59:19.502727Z",
     "iopub.status.busy": "2023-05-03T12:59:19.502303Z",
     "iopub.status.idle": "2023-05-03T12:59:19.520295Z",
     "shell.execute_reply": "2023-05-03T12:59:19.518718Z"
    },
    "papermill": {
     "duration": 0.0319,
     "end_time": "2023-05-03T12:59:19.523844",
     "exception": false,
     "start_time": "2023-05-03T12:59:19.491944",
     "status": "completed"
    },
    "tags": []
   },
   "outputs": [
    {
     "name": "stderr",
     "output_type": "stream",
     "text": [
      "C:\\Users\\nipun\\AppData\\Local\\Temp\\ipykernel_14756\\1200857858.py:1: FutureWarning: The default value of numeric_only in DataFrameGroupBy.mean is deprecated. In a future version, numeric_only will default to False. Either specify numeric_only or select only columns which should be valid for the function.\n",
      "  val = dataset.groupby('Feeling').mean()\n"
     ]
    },
    {
     "data": {
      "text/html": [
       "<div>\n",
       "<style scoped>\n",
       "    .dataframe tbody tr th:only-of-type {\n",
       "        vertical-align: middle;\n",
       "    }\n",
       "\n",
       "    .dataframe tbody tr th {\n",
       "        vertical-align: top;\n",
       "    }\n",
       "\n",
       "    .dataframe thead th {\n",
       "        text-align: right;\n",
       "    }\n",
       "</style>\n",
       "<table border=\"1\" class=\"dataframe\">\n",
       "  <thead>\n",
       "    <tr style=\"text-align: right;\">\n",
       "      <th></th>\n",
       "      <th>Sl no</th>\n",
       "      <th>length</th>\n",
       "    </tr>\n",
       "    <tr>\n",
       "      <th>Feeling</th>\n",
       "      <th></th>\n",
       "      <th></th>\n",
       "    </tr>\n",
       "  </thead>\n",
       "  <tbody>\n",
       "    <tr>\n",
       "      <th>angry</th>\n",
       "      <td>4932.246085</td>\n",
       "      <td>165.794183</td>\n",
       "    </tr>\n",
       "    <tr>\n",
       "      <th>disgust</th>\n",
       "      <td>4262.874411</td>\n",
       "      <td>170.572998</td>\n",
       "    </tr>\n",
       "    <tr>\n",
       "      <th>fear</th>\n",
       "      <td>4122.549247</td>\n",
       "      <td>152.156431</td>\n",
       "    </tr>\n",
       "    <tr>\n",
       "      <th>happy</th>\n",
       "      <td>4560.091141</td>\n",
       "      <td>160.319501</td>\n",
       "    </tr>\n",
       "    <tr>\n",
       "      <th>sad</th>\n",
       "      <td>5739.734995</td>\n",
       "      <td>161.599158</td>\n",
       "    </tr>\n",
       "    <tr>\n",
       "      <th>surprise</th>\n",
       "      <td>7632.000000</td>\n",
       "      <td>136.441103</td>\n",
       "    </tr>\n",
       "  </tbody>\n",
       "</table>\n",
       "</div>"
      ],
      "text/plain": [
       "                Sl no      length\n",
       "Feeling                          \n",
       "angry     4932.246085  165.794183\n",
       "disgust   4262.874411  170.572998\n",
       "fear      4122.549247  152.156431\n",
       "happy     4560.091141  160.319501\n",
       "sad       5739.734995  161.599158\n",
       "surprise  7632.000000  136.441103"
      ]
     },
     "execution_count": 4,
     "metadata": {},
     "output_type": "execute_result"
    }
   ],
   "source": [
    "val = dataset.groupby('Feeling').mean()\n",
    "val\n"
   ]
  },
  {
   "cell_type": "markdown",
   "id": "7d600568",
   "metadata": {
    "papermill": {
     "duration": 0.00855,
     "end_time": "2023-05-03T12:59:19.541510",
     "exception": false,
     "start_time": "2023-05-03T12:59:19.532960",
     "status": "completed"
    },
    "tags": []
   },
   "source": [
    "** FINDING THE CORRELATION BETWEEN THE VOTE COLUMNS**"
   ]
  },
  {
   "cell_type": "code",
   "execution_count": 5,
   "id": "d51bbecd",
   "metadata": {
    "execution": {
     "iopub.execute_input": "2023-05-03T12:59:19.563216Z",
     "iopub.status.busy": "2023-05-03T12:59:19.562189Z",
     "iopub.status.idle": "2023-05-03T12:59:19.575699Z",
     "shell.execute_reply": "2023-05-03T12:59:19.574361Z"
    },
    "papermill": {
     "duration": 0.027106,
     "end_time": "2023-05-03T12:59:19.578608",
     "exception": false,
     "start_time": "2023-05-03T12:59:19.551502",
     "status": "completed"
    },
    "tags": []
   },
   "outputs": [
    {
     "data": {
      "text/html": [
       "<div>\n",
       "<style scoped>\n",
       "    .dataframe tbody tr th:only-of-type {\n",
       "        vertical-align: middle;\n",
       "    }\n",
       "\n",
       "    .dataframe tbody tr th {\n",
       "        vertical-align: top;\n",
       "    }\n",
       "\n",
       "    .dataframe thead th {\n",
       "        text-align: right;\n",
       "    }\n",
       "</style>\n",
       "<table border=\"1\" class=\"dataframe\">\n",
       "  <thead>\n",
       "    <tr style=\"text-align: right;\">\n",
       "      <th></th>\n",
       "      <th>Sl no</th>\n",
       "      <th>length</th>\n",
       "    </tr>\n",
       "  </thead>\n",
       "  <tbody>\n",
       "    <tr>\n",
       "      <th>Sl no</th>\n",
       "      <td>1.000000</td>\n",
       "      <td>-0.742981</td>\n",
       "    </tr>\n",
       "    <tr>\n",
       "      <th>length</th>\n",
       "      <td>-0.742981</td>\n",
       "      <td>1.000000</td>\n",
       "    </tr>\n",
       "  </tbody>\n",
       "</table>\n",
       "</div>"
      ],
      "text/plain": [
       "           Sl no    length\n",
       "Sl no   1.000000 -0.742981\n",
       "length -0.742981  1.000000"
      ]
     },
     "execution_count": 5,
     "metadata": {},
     "output_type": "execute_result"
    }
   ],
   "source": [
    "val.corr()"
   ]
  },
  {
   "cell_type": "code",
   "execution_count": 6,
   "id": "ad208947",
   "metadata": {
    "execution": {
     "iopub.execute_input": "2023-05-03T12:59:19.599374Z",
     "iopub.status.busy": "2023-05-03T12:59:19.598155Z",
     "iopub.status.idle": "2023-05-03T12:59:19.608068Z",
     "shell.execute_reply": "2023-05-03T12:59:19.606661Z"
    },
    "papermill": {
     "duration": 0.023281,
     "end_time": "2023-05-03T12:59:19.610999",
     "exception": false,
     "start_time": "2023-05-03T12:59:19.587718",
     "status": "completed"
    },
    "tags": []
   },
   "outputs": [
    {
     "data": {
      "text/plain": [
       "happy       3928\n",
       "sad         2849\n",
       "angry       1341\n",
       "fear        863 \n",
       "disgust     637 \n",
       "surprise    399 \n",
       "Name: Feeling, dtype: int64"
      ]
     },
     "execution_count": 6,
     "metadata": {},
     "output_type": "execute_result"
    }
   ],
   "source": [
    "dataset.Feeling.value_counts()\n"
   ]
  },
  {
   "cell_type": "markdown",
   "id": "26b19996",
   "metadata": {
    "papermill": {
     "duration": 0.008768,
     "end_time": "2023-05-03T12:59:19.630181",
     "exception": false,
     "start_time": "2023-05-03T12:59:19.621413",
     "status": "completed"
    },
    "tags": []
   },
   "source": [
    "**PLOT THE DATASET**"
   ]
  },
  {
   "cell_type": "code",
   "execution_count": 7,
   "id": "5c083270",
   "metadata": {
    "execution": {
     "iopub.execute_input": "2023-05-03T12:59:19.650916Z",
     "iopub.status.busy": "2023-05-03T12:59:19.650245Z",
     "iopub.status.idle": "2023-05-03T12:59:19.872459Z",
     "shell.execute_reply": "2023-05-03T12:59:19.871529Z"
    },
    "papermill": {
     "duration": 0.235717,
     "end_time": "2023-05-03T12:59:19.874974",
     "exception": false,
     "start_time": "2023-05-03T12:59:19.639257",
     "status": "completed"
    },
    "tags": []
   },
   "outputs": [
    {
     "data": {
      "image/png": "[encoded data removed]",
      "text/plain": [
       "<Figure size 640x480 with 1 Axes>"
      ]
     },
     "metadata": {},
     "output_type": "display_data"
    }
   ],
   "source": [
    "Sentiment_val=dataset.groupby('Feeling').count()\n",
    "plt.bar(Sentiment_val.index.values, Sentiment_val['Tweets'])\n",
    "plt.xlabel('Review Sentiments')\n",
    "plt.ylabel('Number of Review')\n",
    "plt.show()"
   ]
  },
  {
   "cell_type": "markdown",
   "id": "68102332",
   "metadata": {
    "papermill": {
     "duration": 0.009225,
     "end_time": "2023-05-03T12:59:19.894578",
     "exception": false,
     "start_time": "2023-05-03T12:59:19.885353",
     "status": "completed"
    },
    "tags": []
   },
   "source": [
    "**Tokenizer to remove unwanted elements from out data like symbols and numbers**"
   ]
  },
  {
   "cell_type": "code",
   "execution_count": 8,
   "id": "e207635c",
   "metadata": {
    "execution": {
     "iopub.execute_input": "2023-05-03T12:59:19.916341Z",
     "iopub.status.busy": "2023-05-03T12:59:19.915687Z",
     "iopub.status.idle": "2023-05-03T12:59:20.622976Z",
     "shell.execute_reply": "2023-05-03T12:59:20.621342Z"
    },
    "papermill": {
     "duration": 0.721827,
     "end_time": "2023-05-03T12:59:20.626228",
     "exception": false,
     "start_time": "2023-05-03T12:59:19.904401",
     "status": "completed"
    },
    "tags": []
   },
   "outputs": [],
   "source": [
    "\n",
    "tf=TfidfVectorizer()\n",
    "Fit = tf.fit(dataset['Tweets'])\n",
    "text_tf = Fit.transform(dataset['Tweets'])"
   ]
  },
  {
   "cell_type": "markdown",
   "id": "65e36a2e",
   "metadata": {
    "papermill": {
     "duration": 0.010066,
     "end_time": "2023-05-03T12:59:20.646132",
     "exception": false,
     "start_time": "2023-05-03T12:59:20.636066",
     "status": "completed"
    },
    "tags": []
   },
   "source": [
    "# **Train and Test data**"
   ]
  },
  {
   "cell_type": "code",
   "execution_count": 9,
   "id": "0dc80590",
   "metadata": {
    "execution": {
     "iopub.execute_input": "2023-05-03T12:59:20.667245Z",
     "iopub.status.busy": "2023-05-03T12:59:20.666758Z",
     "iopub.status.idle": "2023-05-03T12:59:20.679849Z",
     "shell.execute_reply": "2023-05-03T12:59:20.678482Z"
    },
    "papermill": {
     "duration": 0.027077,
     "end_time": "2023-05-03T12:59:20.682753",
     "exception": false,
     "start_time": "2023-05-03T12:59:20.655676",
     "status": "completed"
    },
    "tags": []
   },
   "outputs": [],
   "source": [
    "x = text_tf\n",
    "# y=dataset['Emotion'].astype('int')\n",
    "y = dataset['Feeling']\n",
    "x_train, x_test, y_train, y_test = train_test_split(x,y, test_size=0.3, random_state=1)"
   ]
  },
  {
   "cell_type": "code",
   "execution_count": 10,
   "id": "6c8b80a1",
   "metadata": {},
   "outputs": [
    {
     "name": "stdout",
     "output_type": "stream",
     "text": [
      "  (0, 35925)\t0.18889114795341877\n",
      "  (0, 35705)\t0.12041676417687773\n",
      "  (0, 33470)\t0.07313885313492803\n",
      "  (0, 33350)\t0.1519494914097459\n",
      "  (0, 33307)\t0.3178275121382052\n",
      "  (0, 32927)\t0.13565715341950801\n",
      "  (0, 28573)\t0.05763504196534996\n",
      "  (0, 27708)\t0.3077948120936337\n",
      "  (0, 24997)\t0.21453585074911183\n",
      "  (0, 22061)\t0.20651419742228036\n",
      "  (0, 21782)\t0.3178275121382052\n",
      "  (0, 20376)\t0.3178275121382052\n",
      "  (0, 17354)\t0.19999698689276532\n",
      "  (0, 16324)\t0.0896971459376978\n",
      "  (0, 14211)\t0.14224307327704955\n",
      "  (0, 11746)\t0.29365451557282474\n",
      "  (0, 11663)\t0.22113552587668348\n",
      "  (0, 11464)\t0.19844676446658185\n",
      "  (0, 11169)\t0.18947239911302757\n",
      "  (0, 10276)\t0.040416484830638505\n",
      "  (0, 5887)\t0.13698626236202607\n",
      "  (0, 4091)\t0.11444491310751496\n",
      "  (0, 1973)\t0.3178275121382052\n",
      "  (1, 39531)\t0.31856666742510253\n",
      "  (1, 39527)\t0.3327398493146491\n",
      "  :\t:\n",
      "  (10016, 24033)\t0.14021596337018286\n",
      "  (10016, 24029)\t0.058168213443379906\n",
      "  (10016, 22541)\t0.15076334873484187\n",
      "  (10016, 21892)\t0.22871378917372315\n",
      "  (10016, 20909)\t0.17550348586684328\n",
      "  (10016, 18392)\t0.1144293304320864\n",
      "  (10016, 17883)\t0.22871378917372315\n",
      "  (10016, 17531)\t0.09943477242674362\n",
      "  (10016, 16318)\t0.1417374037287237\n",
      "  (10016, 15877)\t0.2214940968714421\n",
      "  (10016, 14464)\t0.2040988197824422\n",
      "  (10016, 14369)\t0.15002517551885308\n",
      "  (10016, 13218)\t0.1276932411503638\n",
      "  (10016, 13014)\t0.2214940968714421\n",
      "  (10016, 12586)\t0.15526410302608248\n",
      "  (10016, 11256)\t0.22871378917372315\n",
      "  (10016, 9604)\t0.13677275304979952\n",
      "  (10016, 8678)\t0.16778682524590155\n",
      "  (10016, 5667)\t0.08700566006330296\n",
      "  (10016, 5190)\t0.22871378917372315\n",
      "  (10016, 2421)\t0.11290098101396803\n",
      "  (10016, 2370)\t0.10113855371815572\n",
      "  (10016, 2185)\t0.21589406845814255\n",
      "  (10016, 1853)\t0.2040988197824422\n",
      "  (10016, 884)\t0.1775960373945718 0        happy\n",
      "1        happy\n",
      "2        happy\n",
      "3        happy\n",
      "4        happy\n",
      "         ...  \n",
      "10012    angry\n",
      "10013    angry\n",
      "10014    angry\n",
      "10015    angry\n",
      "10016    angry\n",
      "Name: Feeling, Length: 10017, dtype: object\n"
     ]
    }
   ],
   "source": [
    "print(x,y)"
   ]
  },
  {
   "cell_type": "markdown",
   "id": "2fd02375",
   "metadata": {
    "papermill": {
     "duration": 0.008975,
     "end_time": "2023-05-03T12:59:20.700962",
     "exception": false,
     "start_time": "2023-05-03T12:59:20.691987",
     "status": "completed"
    },
    "tags": []
   },
   "source": [
    "# **Implementing Decision Tree Classifier**"
   ]
  },
  {
   "cell_type": "code",
   "execution_count": 11,
   "id": "f05f13fb",
   "metadata": {
    "execution": {
     "iopub.execute_input": "2023-05-03T12:59:20.722019Z",
     "iopub.status.busy": "2023-05-03T12:59:20.721149Z",
     "iopub.status.idle": "2023-05-03T12:59:23.759247Z",
     "shell.execute_reply": "2023-05-03T12:59:23.757885Z"
    },
    "papermill": {
     "duration": 3.051751,
     "end_time": "2023-05-03T12:59:23.761942",
     "exception": false,
     "start_time": "2023-05-03T12:59:20.710191",
     "status": "completed"
    },
    "tags": []
   },
   "outputs": [
    {
     "name": "stdout",
     "output_type": "stream",
     "text": [
      "Confusion Matrix for Decision Tree:\n",
      "[[ 351    0    1   28   15    0]\n",
      " [   1  179    1   16    1    0]\n",
      " [   1    0  205   37    6    1]\n",
      " [  24   10   33 1099   51    5]\n",
      " [  13    3    7   95  712    0]\n",
      " [   0    0    0   14    2   95]]\n",
      "Score: 87.86\n",
      "Classification Report:\n",
      "              precision    recall  f1-score   support\n",
      "\n",
      "       angry       0.90      0.89      0.89       395\n",
      "     disgust       0.93      0.90      0.92       198\n",
      "        fear       0.83      0.82      0.82       250\n",
      "       happy       0.85      0.90      0.88      1222\n",
      "         sad       0.90      0.86      0.88       830\n",
      "    surprise       0.94      0.86      0.90       111\n",
      "\n",
      "    accuracy                           0.88      3006\n",
      "   macro avg       0.89      0.87      0.88      3006\n",
      "weighted avg       0.88      0.88      0.88      3006\n",
      "\n"
     ]
    }
   ],
   "source": [
    "dt = DecisionTreeClassifier(random_state=42)\n",
    "dt.fit(x_train,y_train)\n",
    "preddt = dt.predict(x_test)\n",
    "print(\"Confusion Matrix for Decision Tree:\")\n",
    "print(confusion_matrix(y_test,preddt))\n",
    "dtt_score = round(accuracy_score(y_test,preddt)*100,2)\n",
    "print(\"Score:\",dtt_score)\n",
    "print(\"Classification Report:\")\n",
    "print(classification_report(y_test,preddt))"
   ]
  },
  {
   "cell_type": "markdown",
   "id": "1bb0464e",
   "metadata": {
    "papermill": {
     "duration": 0.009496,
     "end_time": "2023-05-03T12:59:23.780995",
     "exception": false,
     "start_time": "2023-05-03T12:59:23.771499",
     "status": "completed"
    },
    "tags": []
   },
   "source": [
    "# **Implementing Logistic Regression**"
   ]
  },
  {
   "cell_type": "code",
   "execution_count": 12,
   "id": "4b6a68f0",
   "metadata": {
    "execution": {
     "iopub.execute_input": "2023-05-03T12:59:23.803396Z",
     "iopub.status.busy": "2023-05-03T12:59:23.802582Z",
     "iopub.status.idle": "2023-05-03T12:59:32.611166Z",
     "shell.execute_reply": "2023-05-03T12:59:32.608908Z"
    },
    "papermill": {
     "duration": 8.82334,
     "end_time": "2023-05-03T12:59:32.614322",
     "exception": false,
     "start_time": "2023-05-03T12:59:23.790982",
     "status": "completed"
    },
    "tags": []
   },
   "outputs": [
    {
     "name": "stdout",
     "output_type": "stream",
     "text": [
      "Confusion Matrix for Logistic regression:\n",
      "[[ 254    0    0  100   41    0]\n",
      " [   0   96    0   91   11    0]\n",
      " [   1    0  114  125   10    0]\n",
      " [   0    0    1 1211   10    0]\n",
      " [   3    0    1  149  677    0]\n",
      " [   0    0    0   64    5   42]]\n",
      "Score: 79.64\n",
      "Classification Report:\n",
      "              precision    recall  f1-score   support\n",
      "\n",
      "       angry       0.98      0.64      0.78       395\n",
      "     disgust       1.00      0.48      0.65       198\n",
      "        fear       0.98      0.46      0.62       250\n",
      "       happy       0.70      0.99      0.82      1222\n",
      "         sad       0.90      0.82      0.85       830\n",
      "    surprise       1.00      0.38      0.55       111\n",
      "\n",
      "    accuracy                           0.80      3006\n",
      "   macro avg       0.93      0.63      0.71      3006\n",
      "weighted avg       0.84      0.80      0.79      3006\n",
      "\n"
     ]
    },
    {
     "name": "stderr",
     "output_type": "stream",
     "text": [
      "C:\\Users\\nipun\\anaconda3\\Lib\\site-packages\\sklearn\\linear_model\\_logistic.py:460: ConvergenceWarning: lbfgs failed to converge (status=1):\n",
      "STOP: TOTAL NO. of ITERATIONS REACHED LIMIT.\n",
      "\n",
      "Increase the number of iterations (max_iter) or scale the data as shown in:\n",
      "    https://scikit-learn.org/stable/modules/preprocessing.html\n",
      "Please also refer to the documentation for alternative solver options:\n",
      "    https://scikit-learn.org/stable/modules/linear_model.html#logistic-regression\n",
      "  n_iter_i = _check_optimize_result(\n"
     ]
    }
   ],
   "source": [
    "from sklearn.linear_model import LogisticRegression\n",
    "lr = LogisticRegression(random_state=42)\n",
    "lr.fit(x_train,y_train)\n",
    "lr_preddt = lr.predict(x_test)\n",
    "print(\"Confusion Matrix for Logistic regression:\")\n",
    "print(confusion_matrix(y_test,lr_preddt))\n",
    "\n",
    "logi_score = round(accuracy_score(y_test,lr_preddt)*100,2)\n",
    "print(\"Score:\",logi_score)\n",
    "\n",
    "print(\"Classification Report:\")\n",
    "print(classification_report(y_test,lr_preddt))"
   ]
  },
  {
   "cell_type": "markdown",
   "id": "00abb531",
   "metadata": {
    "papermill": {
     "duration": 0.00959,
     "end_time": "2023-05-03T12:59:32.633719",
     "exception": false,
     "start_time": "2023-05-03T12:59:32.624129",
     "status": "completed"
    },
    "tags": []
   },
   "source": [
    "# **Implementing k Nearest Neighbors**"
   ]
  },
  {
   "cell_type": "code",
   "execution_count": 13,
   "id": "f2751177",
   "metadata": {
    "execution": {
     "iopub.execute_input": "2023-05-03T12:59:32.655446Z",
     "iopub.status.busy": "2023-05-03T12:59:32.654995Z",
     "iopub.status.idle": "2023-05-03T12:59:34.080650Z",
     "shell.execute_reply": "2023-05-03T12:59:34.078789Z"
    },
    "papermill": {
     "duration": 1.4406,
     "end_time": "2023-05-03T12:59:34.084120",
     "exception": false,
     "start_time": "2023-05-03T12:59:32.643520",
     "status": "completed"
    },
    "tags": []
   },
   "outputs": [
    {
     "name": "stdout",
     "output_type": "stream",
     "text": [
      "Confusion Matrix for kNN:\n",
      "[[229   5  11  94  55   1]\n",
      " [ 13 123   6  27  28   1]\n",
      " [ 16   3 145  57  27   2]\n",
      " [ 71  22  34 940 148   7]\n",
      " [ 42  15  28 175 569   1]\n",
      " [  4   2   2  27  13  63]]\n",
      "Score: 68.83\n",
      "Classification Report:\n",
      "              precision    recall  f1-score   support\n",
      "\n",
      "       angry       0.61      0.58      0.59       395\n",
      "     disgust       0.72      0.62      0.67       198\n",
      "        fear       0.64      0.58      0.61       250\n",
      "       happy       0.71      0.77      0.74      1222\n",
      "         sad       0.68      0.69      0.68       830\n",
      "    surprise       0.84      0.57      0.68       111\n",
      "\n",
      "    accuracy                           0.69      3006\n",
      "   macro avg       0.70      0.63      0.66      3006\n",
      "weighted avg       0.69      0.69      0.69      3006\n",
      "\n"
     ]
    }
   ],
   "source": [
    "from sklearn.neighbors import KNeighborsClassifier\n",
    "\n",
    "lir = KNeighborsClassifier(n_neighbors=6,algorithm='brute')\n",
    "lir.fit(x_train,y_train)\n",
    "lir_preddt = lir.predict(x_test)\n",
    "print(\"Confusion Matrix for kNN:\")\n",
    "print(confusion_matrix(y_test,lir_preddt))\n",
    "\n",
    "knn_score = round(accuracy_score(y_test,lir_preddt)*100,2)\n",
    "print(\"Score:\",knn_score)\n",
    "\n",
    "print(\"Classification Report:\")\n",
    "print(classification_report(y_test,lir_preddt))"
   ]
  },
  {
   "cell_type": "markdown",
   "id": "7becbce3",
   "metadata": {
    "papermill": {
     "duration": 0.009678,
     "end_time": "2023-05-03T12:59:34.104586",
     "exception": false,
     "start_time": "2023-05-03T12:59:34.094908",
     "status": "completed"
    },
    "tags": []
   },
   "source": [
    "# **Implementing SVM**"
   ]
  },
  {
   "cell_type": "code",
   "execution_count": 14,
   "id": "d4fb30bb",
   "metadata": {
    "execution": {
     "iopub.execute_input": "2023-05-03T12:59:34.127012Z",
     "iopub.status.busy": "2023-05-03T12:59:34.125687Z",
     "iopub.status.idle": "2023-05-03T13:00:09.702402Z",
     "shell.execute_reply": "2023-05-03T13:00:09.700393Z"
    },
    "papermill": {
     "duration": 35.591529,
     "end_time": "2023-05-03T13:00:09.705705",
     "exception": false,
     "start_time": "2023-05-03T12:59:34.114176",
     "status": "completed"
    },
    "tags": []
   },
   "outputs": [
    {
     "name": "stdout",
     "output_type": "stream",
     "text": [
      "[[ 229    0    2  133   31    0]\n",
      " [   0   94    0  101    3    0]\n",
      " [   0    0  105  141    4    0]\n",
      " [   1    0    0 1219    2    0]\n",
      " [   3    0    1  190  636    0]\n",
      " [   0    0    0   68    0   43]]\n",
      "Score: 77.3785761809714\n",
      "Classification Report:\n",
      "              precision    recall  f1-score   support\n",
      "\n",
      "       angry       0.98      0.58      0.73       395\n",
      "     disgust       1.00      0.47      0.64       198\n",
      "        fear       0.97      0.42      0.59       250\n",
      "       happy       0.66      1.00      0.79      1222\n",
      "         sad       0.94      0.77      0.84       830\n",
      "    surprise       1.00      0.39      0.56       111\n",
      "\n",
      "    accuracy                           0.77      3006\n",
      "   macro avg       0.93      0.60      0.69      3006\n",
      "weighted avg       0.84      0.77      0.76      3006\n",
      "\n"
     ]
    }
   ],
   "source": [
    "from sklearn.svm import SVC\n",
    "clf = SVC()\n",
    "clf.fit(x_train,y_train)\n",
    "pred2 = clf.predict(x_test)\n",
    "print(confusion_matrix(y_test,pred2))\n",
    "svm_score=clf.score(x_test,y_test)*100\n",
    "print(\"Score:\",svm_score) \n",
    "print(\"Classification Report:\")\n",
    "print(classification_report(y_test,pred2))"
   ]
  },
  {
   "cell_type": "markdown",
   "id": "79b9d36f",
   "metadata": {
    "papermill": {
     "duration": 0.00951,
     "end_time": "2023-05-03T13:00:09.725328",
     "exception": false,
     "start_time": "2023-05-03T13:00:09.715818",
     "status": "completed"
    },
    "tags": []
   },
   "source": [
    "# **Implementing Naive Bayes**"
   ]
  },
  {
   "cell_type": "code",
   "execution_count": 15,
   "id": "55c2ee2b",
   "metadata": {
    "execution": {
     "iopub.execute_input": "2023-05-03T13:00:09.746740Z",
     "iopub.status.busy": "2023-05-03T13:00:09.746324Z",
     "iopub.status.idle": "2023-05-03T13:00:25.339395Z",
     "shell.execute_reply": "2023-05-03T13:00:25.337660Z"
    },
    "papermill": {
     "duration": 15.607895,
     "end_time": "2023-05-03T13:00:25.342982",
     "exception": false,
     "start_time": "2023-05-03T13:00:09.735087",
     "status": "completed"
    },
    "tags": []
   },
   "outputs": [
    {
     "name": "stdout",
     "output_type": "stream",
     "text": [
      "[[207   2  13  97  70   6]\n",
      " [ 10 102   5  39  42   0]\n",
      " [ 10   5 115  67  49   4]\n",
      " [ 67  16  37 836 235  31]\n",
      " [ 65  11  25 175 537  17]\n",
      " [  9   1   0  25  13  63]]\n",
      "Score: 61.876247504990026\n",
      "Classification Report:\n",
      "              precision    recall  f1-score   support\n",
      "\n",
      "       angry       0.56      0.52      0.54       395\n",
      "     disgust       0.74      0.52      0.61       198\n",
      "        fear       0.59      0.46      0.52       250\n",
      "       happy       0.67      0.68      0.68      1222\n",
      "         sad       0.57      0.65      0.60       830\n",
      "    surprise       0.52      0.57      0.54       111\n",
      "\n",
      "    accuracy                           0.62      3006\n",
      "   macro avg       0.61      0.57      0.58      3006\n",
      "weighted avg       0.62      0.62      0.62      3006\n",
      "\n"
     ]
    }
   ],
   "source": [
    "from sklearn.naive_bayes import GaussianNB\n",
    "nb = GaussianNB()\n",
    "nb.fit(x_train.toarray(),y_train)\n",
    "pred3 = nb.predict(x_test.toarray())\n",
    "print(confusion_matrix(y_test,pred3))\n",
    "naiveBayes_score=nb.score(x_test.toarray(),y_test)*100\n",
    "print(\"Score:\",naiveBayes_score)\n",
    "print(\"Classification Report:\")\n",
    "print(classification_report(y_test,pred3))"
   ]
  },
  {
   "cell_type": "markdown",
   "id": "6492f76c",
   "metadata": {
    "papermill": {
     "duration": 0.009586,
     "end_time": "2023-05-03T13:00:25.363097",
     "exception": false,
     "start_time": "2023-05-03T13:00:25.353511",
     "status": "completed"
    },
    "tags": []
   },
   "source": [
    "# **Model Analysis**"
   ]
  },
  {
   "cell_type": "code",
   "execution_count": 16,
   "id": "c716d34d",
   "metadata": {
    "execution": {
     "iopub.execute_input": "2023-05-03T13:00:25.385153Z",
     "iopub.status.busy": "2023-05-03T13:00:25.384644Z",
     "iopub.status.idle": "2023-05-03T13:00:25.591810Z",
     "shell.execute_reply": "2023-05-03T13:00:25.590459Z"
    },
    "papermill": {
     "duration": 0.221852,
     "end_time": "2023-05-03T13:00:25.594770",
     "exception": false,
     "start_time": "2023-05-03T13:00:25.372918",
     "status": "completed"
    },
    "tags": []
   },
   "outputs": [
    {
     "data": {
      "image/png": "[encoded data removed]",
      "text/plain": [
       "<Figure size 640x480 with 1 Axes>"
      ]
     },
     "metadata": {},
     "output_type": "display_data"
    }
   ],
   "source": [
    "scores=[dtt_score,logi_score,knn_score,svm_score,naiveBayes_score]\n",
    "title=[\"DecisionTree\",\"Logistic\",\"KNN\",\"SVM\",\"NaiveBayes\"]\n",
    "plt.bar(title,scores, color ='red')\n",
    " \n",
    "plt.xlabel(\"Classifiers\")\n",
    "plt.ylabel(\"Accuracy Scores\")\n",
    "\n",
    "plt.show()"
   ]
  },
  {
   "cell_type": "markdown",
   "id": "376db56d",
   "metadata": {
    "papermill": {
     "duration": 0.00996,
     "end_time": "2023-05-03T13:00:25.615087",
     "exception": false,
     "start_time": "2023-05-03T13:00:25.605127",
     "status": "completed"
    },
    "tags": []
   },
   "source": [
    "# **Model for new test data**"
   ]
  },
  {
   "cell_type": "code",
   "execution_count": 17,
   "id": "d402e214",
   "metadata": {
    "execution": {
     "iopub.execute_input": "2023-05-03T13:00:25.671164Z",
     "iopub.status.busy": "2023-05-03T13:00:25.670658Z",
     "iopub.status.idle": "2023-05-03T13:00:25.695023Z",
     "shell.execute_reply": "2023-05-03T13:00:25.693202Z"
    },
    "papermill": {
     "duration": 0.039573,
     "end_time": "2023-05-03T13:00:25.698045",
     "exception": false,
     "start_time": "2023-05-03T13:00:25.658472",
     "status": "completed"
    },
    "tags": []
   },
   "outputs": [
    {
     "name": "stdout",
     "output_type": "stream",
     "text": [
      "The horror movie was so scary.\n",
      "Emotion:  fear\n",
      "\n",
      "John comforts anyone when they are upset or overwhelmed.\n",
      "Emotion:  sad\n",
      "\n",
      " A 26 year old man kidnapped, raped & impregnated a 11 year old girl in Ohio\n",
      "Emotion:  disgust\n",
      "\n",
      "What a surprise I feel sick now, thank you so much!\n",
      "Emotion:  surprise\n",
      "\n",
      "I really love you. Your are sweet and charming.\n",
      "Emotion:  happy\n",
      "\n"
     ]
    }
   ],
   "source": [
    "\n",
    "inp = \"The horror movie was so scary.\"\n",
    "text_tf_inp = Fit.transform(pd.Series(inp))\n",
    "preddt = dt.predict(text_tf_inp)\n",
    "print(inp)\n",
    "print(\"Emotion: \", preddt[0])\n",
    "print()\n",
    "\n",
    "inp = \"John comforts anyone when they are upset or overwhelmed.\"\n",
    "text_tf_inp = Fit.transform(pd.Series(inp))\n",
    "preddt = dt.predict(text_tf_inp)\n",
    "print(inp)\n",
    "print(\"Emotion: \", preddt[0])\n",
    "print()\n",
    "\n",
    "inp = \" A 26 year old man kidnapped, raped & impregnated a 11 year old girl in Ohio\"\n",
    "text_tf_inp = Fit.transform(pd.Series(inp))\n",
    "preddt = dt.predict(text_tf_inp)\n",
    "print(inp)\n",
    "print(\"Emotion: \", preddt[0])\n",
    "print()\n",
    "\n",
    "inp = \"What a surprise I feel sick now, thank you so much!\"\n",
    "text_tf_inp = Fit.transform(pd.Series(inp))\n",
    "preddt = dt.predict(text_tf_inp)\n",
    "print(inp)\n",
    "print(\"Emotion: \", preddt[0])\n",
    "print()\n",
    "\n",
    "inp = \"I really love you. Your are sweet and charming.\"\n",
    "text_tf_inp = Fit.transform(pd.Series(inp))\n",
    "preddt = dt.predict(text_tf_inp)\n",
    "print(inp)\n",
    "print(\"Emotion: \", preddt[0])\n",
    "print()"
   ]
  },
  {
   "cell_type": "code",
   "execution_count": 18,
   "id": "b33a3994",
   "metadata": {},
   "outputs": [],
   "source": [
    "import pickle\n",
    "\n",
    "pickle.dump(tf, open(\"token.pkl\",'wb'))\n",
    "pickle.dump(dt, open(\"twitter_data.pkl\",'wb'))\n"
   ]
  },
  {
   "cell_type": "code",
   "execution_count": 21,
   "id": "1af4456a",
   "metadata": {},
   "outputs": [
    {
     "name": "stdout",
     "output_type": "stream",
     "text": [
      "Enter your Tweet here : i hate you\n",
      "i hate you\n",
      "Emotion:  angry\n",
      "\n"
     ]
    }
   ],
   "source": [
    "inp = input(\"Enter your Tweet here : \")\n",
    "text_tf_inp = Fit.transform(pd.Series(inp))\n",
    "preddt = dt.predict(text_tf_inp)\n",
    "print(inp)\n",
    "print(\"Emotion: \", preddt[0])\n",
    "print()"
   ]
  },
  {
   "cell_type": "code",
   "execution_count": null,
   "id": "5f4680df",
   "metadata": {},
   "outputs": [],
   "source": []
  },
  {
   "cell_type": "code",
   "execution_count": null,
   "id": "07d20c19",
   "metadata": {},
   "outputs": [],
   "source": []
  }
 ],
 "metadata": {
  "kernelspec": {
   "display_name": "Python 3 (ipykernel)",
   "language": "python",
   "name": "python3"
  },
  "language_info": {
   "codemirror_mode": {
    "name": "ipython",
    "version": 3
   },
   "file_extension": ".py",
   "mimetype": "text/x-python",
   "name": "python",
   "nbconvert_exporter": "python",
   "pygments_lexer": "ipython3",
   "version": "3.11.5"
  },
  "papermill": {
   "default_parameters": {},
   "duration": 84.401187,
   "end_time": "2023-05-03T13:00:26.935954",
   "environment_variables": {},
   "exception": null,
   "input_path": "__notebook__.ipynb",
   "output_path": "__notebook__.ipynb",
   "parameters": {},
   "start_time": "2023-05-03T12:59:02.534767",
   "version": "2.4.0"
  }
 },
 "nbformat": 4,
 "nbformat_minor": 5
}
